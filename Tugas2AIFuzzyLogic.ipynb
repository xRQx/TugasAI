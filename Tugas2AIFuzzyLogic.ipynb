{
  "nbformat": 4,
  "nbformat_minor": 0,
  "metadata": {
    "colab": {
      "name": "Tugas2AIFuzzyLogic.ipynb",
      "version": "0.3.2",
      "provenance": [],
      "collapsed_sections": [],
      "include_colab_link": true
    },
    "kernelspec": {
      "name": "python3",
      "display_name": "Python 3"
    }
  },
  "cells": [
    {
      "cell_type": "markdown",
      "metadata": {
        "id": "view-in-github",
        "colab_type": "text"
      },
      "source": [
        "<a href=\"https://colab.research.google.com/github/xRQx/TugasAI/blob/master/Tugas2AIFuzzyLogic.ipynb\" target=\"_parent\"><img src=\"https://colab.research.google.com/assets/colab-badge.svg\" alt=\"Open In Colab\"/></a>"
      ]
    },
    {
      "metadata": {
        "id": "_Ivmp1eKE2_b",
        "colab_type": "code",
        "colab": {}
      },
      "cell_type": "code",
      "source": [
        "import numpy as np\n",
        "import pandas as pd \n",
        "from google.colab import files\n",
        "!git clone https://github.com/xRQx/TugasAI"
      ],
      "execution_count": 0,
      "outputs": []
    },
    {
      "metadata": {
        "id": "F8TvMYeIyKhh",
        "colab_type": "code",
        "colab": {}
      },
      "cell_type": "code",
      "source": [
        "data = pd.read_csv('TugasAI/DataTugas2.csv',skipinitialspace=True)\n",
        "del data['No']\n",
        "data"
      ],
      "execution_count": 0,
      "outputs": []
    },
    {
      "metadata": {
        "id": "JgTgtff_4jey",
        "colab_type": "code",
        "colab": {}
      },
      "cell_type": "code",
      "source": [
        "def pendapatan_rendah(x):\n",
        "    maks=1 \n",
        "    k=10 \n",
        "    a=0.7 \n",
        "    return maks/(1+np.exp(-k*(-x+a)))\n",
        "        \n",
        "def pendapatan_menengah(x):\n",
        "    maks=1 \n",
        "    w=0.2 \n",
        "    return np.exp(-((x-maks)/w)**2)\n",
        "  \n",
        "def pendapatan_tinggi(x):\n",
        "    maks=1 \n",
        "    k=10 \n",
        "    a=2.0 \n",
        "    return maks/(1+np.exp(-k*(x-a)))"
      ],
      "execution_count": 0,
      "outputs": []
    },
    {
      "metadata": {
        "id": "Q5eEjxkF4lNL",
        "colab_type": "code",
        "colab": {}
      },
      "cell_type": "code",
      "source": [
        "def hutang_sedikit(x):\n",
        "    maks=1 \n",
        "    k=0.25 \n",
        "    a=24.5 \n",
        "    return maks/(1+np.exp(-k*(-x+a)))\n",
        "        \n",
        "def hutang_lumayan(x):\n",
        "    maks = 1 \n",
        "    a=40.0 \n",
        "    w=10 \n",
        "    return maks*np.exp(-((x-a)/w)**2)\n",
        "  \n",
        "def hutang_banyak(x):\n",
        "    maks=1 \n",
        "    k=0.5 \n",
        "    a=67.0 \n",
        "    return maks/(1+np.exp(-k*(x-a)))"
      ],
      "execution_count": 0,
      "outputs": []
    },
    {
      "metadata": {
        "id": "f8MM6wgN5Wf0",
        "colab_type": "code",
        "colab": {}
      },
      "cell_type": "code",
      "source": [
        "def harta_kecil(x):\n",
        "    maks=1 \n",
        "    k=20 \n",
        "    a=0.25 \n",
        "    return maks/(1+np.exp(-k*(-x+a)))\n",
        "        \n",
        "def harta_lumayan(x):\n",
        "    maks = 1\n",
        "    a=0.5 \n",
        "    w=0.1 \n",
        "    return maks*np.exp(-((x-a)/w)**2)\n",
        "  \n",
        "def harta_lebih(x):\n",
        "    maks=1 \n",
        "    k=20 \n",
        "    a=0.75 \n",
        "    return maks/(1+np.exp(-k*(x-a)))"
      ],
      "execution_count": 0,
      "outputs": []
    },
    {
      "metadata": {
        "id": "YaiHx2B25l9U",
        "colab_type": "code",
        "colab": {}
      },
      "cell_type": "code",
      "source": [
        "def rule(pendapatan, p, hutanp, h):\n",
        "    if pendapatan == 'rendah' and hutang == 'sedikit':\n",
        "        return (np.minimum(p,h)) \n",
        "    elif pendapatan == 'rendah' and hutang == 'lumayan':\n",
        "        return (np.minimum(p,h)) \n",
        "    elif pendapatan == 'rendah' and hutang == 'banyak':\n",
        "        return (np.minimum(p,h)) \n",
        "    elif pendapatan == 'menengah' and hutang == 'sedikit':\n",
        "        return (np.minimum(p,h)) \n",
        "    elif pendapatan == 'menengah' and hutang == 'lumayan':\n",
        "        return (np.minimum(p,h)) \n",
        "    elif pendapatan == 'menengah' and hutang == 'banyak':\n",
        "        return (np.minimum(p,h)) \n",
        "    elif pendapatan == 'tinggi' and hutang == 'sedikit':\n",
        "        return (np.minimum(p,h)) \n",
        "    elif pendapatan == 'tinggi' and hutang == 'lumayan':\n",
        "        return (np.minimum(p,h)) \n",
        "    elif pendapatan == 'tinggi' and hutang == 'banyak':\n",
        "        return (np.minimum(p,h)) "
      ],
      "execution_count": 0,
      "outputs": []
    },
    {
      "metadata": {
        "id": "tfqAXQ6c6_xI",
        "colab_type": "code",
        "colab": {}
      },
      "cell_type": "code",
      "source": [
        "p_rendah = []\n",
        "p_menengah = []\n",
        "p_tinggi = []\n",
        "h_sedikit = []\n",
        "h_lumayan = []\n",
        "h_banyak = []\n",
        "for index, row in data.iterrows():\n",
        "    p_rendah.append(gaji_rendah(row['Pendapatan']))\n",
        "    p_menengah.append(gaji_menengah(row['Pendapatan']))\n",
        "    p_tinggi.append(gaji_tinggi(row['Pendapatan']))\n",
        "    h_sedikit.append(hutang_sedikit(row['Hutang']))\n",
        "    h_lumayan.append(hutang_lumayan(row['Hutang']))\n",
        "    h_banyak.append(hutang_banyak(row['Hutang']))\n",
        "d = {'p_rendah': p_rendah, 'p_menengah': p_menengah, 'p_tinggi':p_tinggi, 'h_sedikit':h_sedikit, 'h_lumayan':h_lumayan, 'h_banyak':h_banyak}\n",
        "fuzzy_output = pd.DataFrame(data=d)\n",
        "fuzzy_output = fuzzy_output[['p_rendah', 'p_menengah', 'p_tinggi', 'h_sedikit', 'h_lumayan', 'h_banyak']]\n",
        "fuzzy_output"
      ],
      "execution_count": 0,
      "outputs": []
    },
    {
      "metadata": {
        "id": "QnLmpeDP8bg8",
        "colab_type": "code",
        "colab": {}
      },
      "cell_type": "code",
      "source": [
        "hartakecil = []\n",
        "hartalumayan = []\n",
        "hartalebih = []\n",
        "for index, row in fuzzy_output.iterrows():\n",
        "    hartakecil.append(max(rule('kecil',row['p_rendah'],'lumayan',row['h_lumayan']),\n",
        "                       rule('lumayan',row['p_menengah'],'lebih',row['p_tinggi']),\n",
        "                       rule('kecil',row['p_rendah'],'lebih',row['p_tinggi'])))\n",
        "    hartalumayan.append(max(rule('kecil',row['p_rendah'],'kecil',row['h_sedikit']),\n",
        "                         rule('lumayan',row['p_menengah'],'lumayan',row['h_lumayan']),\n",
        "                         rule('lebih',row['p_tinggi'],'lebih',row['p_tinggi'])))\n",
        "    hartalebih.append(max(rule('lebih',row['p_tinggi'],'lumayan',row['h_lumayan']),\n",
        "                       rule('lebih',row['p_tinggi'],'kecil',row['h_sedikit']),\n",
        "                       rule('lumayan',row['p_menengah'],'kecil',row['p_rendah'])))\n",
        "d = {'hartakecil':hartakecil, 'hartalumayan':hartalumayan, 'hartalebih':hartalebih}\n",
        "output = pd.DataFrame(data=d)\n",
        "output = output[['hartakecil', 'hartalumayan', 'hartalebih']]\n",
        "output"
      ],
      "execution_count": 0,
      "outputs": []
    },
    {
      "metadata": {
        "id": "ChvbOHUs908P",
        "colab_type": "code",
        "colab": {}
      },
      "cell_type": "code",
      "source": [
        "nilaiharta = []\n",
        "nomor = []\n",
        "for index, row in output.iterrows():\n",
        "  nilaiharta.append((1*row['hartakecil']+2*row['hartalumayan']+3*row['hartalebih'])/(row['hartakecil']+row['hartalumayan']+row['hartalebih']))\n",
        "d = {'nilaiharta':nilaiharta}\n",
        "hasil_defuzifikasi = pd.DataFrame(data=d)\n",
        "sorting = hasil_defuzifikasi.sort_values(by=['nilaiharta'])\n",
        "sorting"
      ],
      "execution_count": 0,
      "outputs": []
    },
    {
      "metadata": {
        "id": "WQwjLP6u-oHy",
        "colab_type": "code",
        "colab": {}
      },
      "cell_type": "code",
      "source": [
        "minimum = urut.drop(urut.index[20:100])\n",
        "del minimum['nilaiharta']\n",
        "minimum.index = minimum.index + 1\n",
        "minimum.T"
      ],
      "execution_count": 0,
      "outputs": []
    },
    {
      "metadata": {
        "id": "VmFYWz95_bSZ",
        "colab_type": "code",
        "colab": {}
      },
      "cell_type": "code",
      "source": [
        "terkecil.to_csv('TebakanTugas2.csv', sep='\\t', encoding='utf-8',header=None)\n",
        "files.download('TebakanTugas2.csv')"
      ],
      "execution_count": 0,
      "outputs": []
    }
  ]
}